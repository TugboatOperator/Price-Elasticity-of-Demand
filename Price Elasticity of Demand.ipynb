{
    "cells": [
        {
            "cell_type": "markdown",
            "metadata": {
                "formattedRanges": [],
                "cell_id": "8ce8e5dd29e645a0b0717bc1795eb197",
                "deepnote_cell_type": "text-cell-p"
            },
            "source": "",
            "block_group": "775a3705927c44ef81a32fb50d16a53c"
        },
        {
            "cell_type": "code",
            "metadata": {
                "source_hash": "96ea33e9",
                "execution_start": 1753222841118,
                "execution_millis": 4811,
                "execution_context_id": "d437e712-ebcb-42d8-8eed-ce125eeaa85b",
                "cell_id": "14582e754fc14307b3f7182e8735f82b",
                "deepnote_cell_type": "code"
            },
            "source": "!pip install statsmodels==0.14.5",
            "block_group": "2a8ed397145e42218c165ba2e6931306",
            "execution_count": 1,
            "outputs": [
                {
                    "name": "stdout",
                    "text": "Collecting statsmodels==0.14.5\n  Downloading statsmodels-0.14.5-cp310-cp310-manylinux2014_x86_64.manylinux_2_17_x86_64.manylinux_2_28_x86_64.whl (10.7 MB)\n\u001b[2K     \u001b[90m━━━━━━━━━━━━━━━━━━━━━━━━━━━━━━━━━━━━━━━\u001b[0m \u001b[32m10.7/10.7 MB\u001b[0m \u001b[31m142.0 MB/s\u001b[0m eta \u001b[36m0:00:00\u001b[0m\n\u001b[?25hRequirement already satisfied: pandas!=2.1.0,>=1.4 in /root/venv/lib/python3.10/site-packages (from statsmodels==0.14.5) (2.1.4)\nRequirement already satisfied: scipy!=1.9.2,>=1.8 in /root/venv/lib/python3.10/site-packages (from statsmodels==0.14.5) (1.9.3)\nCollecting patsy>=0.5.6\n  Downloading patsy-1.0.1-py2.py3-none-any.whl (232 kB)\n\u001b[2K     \u001b[90m━━━━━━━━━━━━━━━━━━━━━━━━━━━━━━━━━━━━━━\u001b[0m \u001b[32m232.9/232.9 kB\u001b[0m \u001b[31m57.7 MB/s\u001b[0m eta \u001b[36m0:00:00\u001b[0m\n\u001b[?25hRequirement already satisfied: packaging>=21.3 in /root/venv/lib/python3.10/site-packages (from statsmodels==0.14.5) (25.0)\nRequirement already satisfied: numpy<3,>=1.22.3 in /root/venv/lib/python3.10/site-packages (from statsmodels==0.14.5) (1.25.2)\nRequirement already satisfied: pytz>=2020.1 in /root/venv/lib/python3.10/site-packages (from pandas!=2.1.0,>=1.4->statsmodels==0.14.5) (2025.2)\nRequirement already satisfied: tzdata>=2022.1 in /root/venv/lib/python3.10/site-packages (from pandas!=2.1.0,>=1.4->statsmodels==0.14.5) (2025.2)\nRequirement already satisfied: python-dateutil>=2.8.2 in /root/venv/lib/python3.10/site-packages (from pandas!=2.1.0,>=1.4->statsmodels==0.14.5) (2.9.0.post0)\nRequirement already satisfied: six>=1.5 in /root/venv/lib/python3.10/site-packages (from python-dateutil>=2.8.2->pandas!=2.1.0,>=1.4->statsmodels==0.14.5) (1.17.0)\nInstalling collected packages: patsy, statsmodels\nSuccessfully installed patsy-1.0.1 statsmodels-0.14.5\n\n\u001b[1m[\u001b[0m\u001b[34;49mnotice\u001b[0m\u001b[1;39;49m]\u001b[0m\u001b[39;49m A new release of pip is available: \u001b[0m\u001b[31;49m23.0.1\u001b[0m\u001b[39;49m -> \u001b[0m\u001b[32;49m25.1.1\u001b[0m\n\u001b[1m[\u001b[0m\u001b[34;49mnotice\u001b[0m\u001b[1;39;49m]\u001b[0m\u001b[39;49m To update, run: \u001b[0m\u001b[32;49mpip install --upgrade pip\u001b[0m\n",
                    "output_type": "stream"
                }
            ],
            "outputs_reference": "s3:deepnote-cell-outputs-production/4fb48d9f-dda5-459a-a7df-f54518f7d5f9",
            "content_dependencies": null
        },
        {
            "cell_type": "code",
            "metadata": {
                "source_hash": "611552be",
                "execution_start": 1753222845978,
                "execution_millis": 573,
                "execution_context_id": "d437e712-ebcb-42d8-8eed-ce125eeaa85b",
                "cell_id": "4833b68d9ca14193a8aba705c35124a9",
                "deepnote_cell_type": "code"
            },
            "source": "import pandas as pd\nimport statsmodels.api as sm",
            "block_group": "8a77d4702eb94bd3952d52cac31f6bc0",
            "execution_count": 2,
            "outputs": [],
            "outputs_reference": null,
            "content_dependencies": null
        },
        {
            "cell_type": "code",
            "metadata": {
                "source_hash": "cdde0c47",
                "execution_start": 1753222846608,
                "execution_millis": 1451,
                "execution_context_id": "d437e712-ebcb-42d8-8eed-ce125eeaa85b",
                "cell_id": "b6fbf791f63345558bb8a2ec3e0fd237",
                "deepnote_cell_type": "code"
            },
            "source": "df = pd.read_csv('UKRetail.csv')\n\ndf.shape",
            "block_group": "7cce973765754427b5e11d7fb130e5ca",
            "execution_count": 3,
            "outputs": [
                {
                    "output_type": "execute_result",
                    "execution_count": 3,
                    "data": {
                        "text/plain": "(541909, 8)"
                    },
                    "metadata": {}
                }
            ],
            "outputs_reference": "dbtable:cell_outputs/f3041464-0802-41f2-8862-af44547d9d2b",
            "content_dependencies": null
        },
        {
            "cell_type": "code",
            "metadata": {
                "source_hash": "3439b8d8",
                "execution_start": 1753222848109,
                "execution_millis": 0,
                "execution_context_id": "d437e712-ebcb-42d8-8eed-ce125eeaa85b",
                "cell_id": "865032317bb64c1ca8641a327181f3b4",
                "deepnote_cell_type": "code"
            },
            "source": "cat_codes = ['84029G', '84029E','71053','22745','22752']",
            "block_group": "7b0cf7530a3f4399abaa0eae29837754",
            "execution_count": 4,
            "outputs": [],
            "outputs_reference": null,
            "content_dependencies": null
        },
        {
            "cell_type": "code",
            "metadata": {
                "source_hash": "e8fb5f99",
                "execution_start": 1753222848189,
                "execution_millis": 0,
                "execution_context_id": "d437e712-ebcb-42d8-8eed-ce125eeaa85b",
                "cell_id": "6f03803427e1499ca7911a9960b35839",
                "deepnote_cell_type": "code"
            },
            "source": "for i in df.Description[df['StockCode'].isin(cat_codes)].unique():\n    print(i)",
            "block_group": "8f26feed05754d33b7bf2270f8915b1f",
            "execution_count": 5,
            "outputs": [
                {
                    "name": "stdout",
                    "text": "WHITE METAL LANTERN\nKNITTED UNION FLAG HOT WATER BOTTLE\nRED WOOLLY HOTTIE WHITE HEART.\nSET 7 BABUSHKA NESTING BOXES\nPOPPY'S PLAYHOUSE BEDROOM \nnan\nWHITE MOROCCAN METAL LANTERN\n",
                    "output_type": "stream"
                }
            ],
            "outputs_reference": "dbtable:cell_outputs/7489d47e-5ba2-4380-8b45-969e4eb1d7e8",
            "content_dependencies": null
        },
        {
            "cell_type": "code",
            "metadata": {
                "source_hash": "9ad50705",
                "execution_start": 1753222848269,
                "execution_millis": 0,
                "execution_context_id": "d437e712-ebcb-42d8-8eed-ce125eeaa85b",
                "cell_id": "57f2e6883b8f4c22b8cba095331b9898",
                "deepnote_cell_type": "code"
            },
            "source": "df[df['StockCode'].isin(cat_codes)]",
            "block_group": "d1627a44cdae4102ae0138221904fe40",
            "execution_count": 6,
            "outputs": [
                {
                    "output_type": "execute_result",
                    "execution_count": 6,
                    "data": {
                        "application/vnd.deepnote.dataframe.v3+json": {
                            "column_count": 8,
                            "columns": [
                                {
                                    "name": "InvoiceNo",
                                    "dtype": "object",
                                    "stats": {
                                        "unique_count": 1670,
                                        "nan_count": 0,
                                        "min": null,
                                        "max": null,
                                        "histogram": null,
                                        "categories": [
                                            {
                                                "name": "537240",
                                                "count": 5
                                            },
                                            {
                                                "name": "538071",
                                                "count": 5
                                            },
                                            {
                                                "name": "1668 others",
                                                "count": 2096
                                            }
                                        ]
                                    }
                                },
                                {
                                    "name": "StockCode",
                                    "dtype": "object",
                                    "stats": {
                                        "unique_count": 5,
                                        "nan_count": 0,
                                        "min": null,
                                        "max": null,
                                        "histogram": null,
                                        "categories": [
                                            {
                                                "name": "84029G",
                                                "count": 474
                                            },
                                            {
                                                "name": "84029E",
                                                "count": 452
                                            },
                                            {
                                                "name": "3 others",
                                                "count": 1180
                                            }
                                        ]
                                    }
                                },
                                {
                                    "name": "Description",
                                    "dtype": "object",
                                    "stats": {
                                        "unique_count": 6,
                                        "nan_count": 4,
                                        "min": null,
                                        "max": null,
                                        "histogram": null,
                                        "categories": [
                                            {
                                                "name": "KNITTED UNION FLAG HOT WATER BOTTLE",
                                                "count": 473
                                            },
                                            {
                                                "name": "5 others",
                                                "count": 1629
                                            },
                                            {
                                                "name": "Missing",
                                                "count": 4
                                            }
                                        ]
                                    }
                                },
                                {
                                    "name": "Quantity",
                                    "dtype": "int64",
                                    "stats": {
                                        "unique_count": 61,
                                        "nan_count": 0,
                                        "min": "-96",
                                        "max": "408",
                                        "histogram": [
                                            {
                                                "bin_start": -96,
                                                "bin_end": -45.6,
                                                "count": 3
                                            },
                                            {
                                                "bin_start": -45.6,
                                                "bin_end": 4.799999999999997,
                                                "count": 1450
                                            },
                                            {
                                                "bin_start": 4.799999999999997,
                                                "bin_end": 55.19999999999999,
                                                "count": 625
                                            },
                                            {
                                                "bin_start": 55.19999999999999,
                                                "bin_end": 105.6,
                                                "count": 16
                                            },
                                            {
                                                "bin_start": 105.6,
                                                "bin_end": 156,
                                                "count": 6
                                            },
                                            {
                                                "bin_start": 156,
                                                "bin_end": 206.39999999999998,
                                                "count": 1
                                            },
                                            {
                                                "bin_start": 206.39999999999998,
                                                "bin_end": 256.8,
                                                "count": 2
                                            },
                                            {
                                                "bin_start": 256.8,
                                                "bin_end": 307.2,
                                                "count": 1
                                            },
                                            {
                                                "bin_start": 307.2,
                                                "bin_end": 357.59999999999997,
                                                "count": 0
                                            },
                                            {
                                                "bin_start": 357.59999999999997,
                                                "bin_end": 408,
                                                "count": 2
                                            }
                                        ],
                                        "categories": null
                                    }
                                },
                                {
                                    "name": "InvoiceDate",
                                    "dtype": "object",
                                    "stats": {
                                        "unique_count": 1658,
                                        "nan_count": 0,
                                        "min": null,
                                        "max": null,
                                        "histogram": null,
                                        "categories": [
                                            {
                                                "name": "12/6/2010 10:08",
                                                "count": 5
                                            },
                                            {
                                                "name": "12/9/2010 14:09",
                                                "count": 5
                                            },
                                            {
                                                "name": "1656 others",
                                                "count": 2096
                                            }
                                        ]
                                    }
                                },
                                {
                                    "name": "UnitPrice",
                                    "dtype": "float64",
                                    "stats": {
                                        "unique_count": 23,
                                        "nan_count": 0,
                                        "min": "0.0",
                                        "max": "16.98",
                                        "histogram": [
                                            {
                                                "bin_start": 0,
                                                "bin_end": 1.698,
                                                "count": 4
                                            },
                                            {
                                                "bin_start": 1.698,
                                                "bin_end": 3.396,
                                                "count": 470
                                            },
                                            {
                                                "bin_start": 3.396,
                                                "bin_end": 5.093999999999999,
                                                "count": 914
                                            },
                                            {
                                                "bin_start": 5.093999999999999,
                                                "bin_end": 6.792,
                                                "count": 0
                                            },
                                            {
                                                "bin_start": 6.792,
                                                "bin_end": 8.49,
                                                "count": 369
                                            },
                                            {
                                                "bin_start": 8.49,
                                                "bin_end": 10.187999999999999,
                                                "count": 271
                                            },
                                            {
                                                "bin_start": 10.187999999999999,
                                                "bin_end": 11.886,
                                                "count": 0
                                            },
                                            {
                                                "bin_start": 11.886,
                                                "bin_end": 13.584,
                                                "count": 7
                                            },
                                            {
                                                "bin_start": 13.584,
                                                "bin_end": 15.282,
                                                "count": 0
                                            },
                                            {
                                                "bin_start": 15.282,
                                                "bin_end": 16.98,
                                                "count": 71
                                            }
                                        ],
                                        "categories": null
                                    }
                                },
                                {
                                    "name": "CustomerID",
                                    "dtype": "float64",
                                    "stats": {
                                        "unique_count": 765,
                                        "nan_count": 536,
                                        "min": "12357.0",
                                        "max": "18287.0",
                                        "histogram": [
                                            {
                                                "bin_start": 12357,
                                                "bin_end": 12950,
                                                "count": 137
                                            },
                                            {
                                                "bin_start": 12950,
                                                "bin_end": 13543,
                                                "count": 122
                                            },
                                            {
                                                "bin_start": 13543,
                                                "bin_end": 14136,
                                                "count": 143
                                            },
                                            {
                                                "bin_start": 14136,
                                                "bin_end": 14729,
                                                "count": 179
                                            },
                                            {
                                                "bin_start": 14729,
                                                "bin_end": 15322,
                                                "count": 167
                                            },
                                            {
                                                "bin_start": 15322,
                                                "bin_end": 15915,
                                                "count": 157
                                            },
                                            {
                                                "bin_start": 15915,
                                                "bin_end": 16508,
                                                "count": 114
                                            },
                                            {
                                                "bin_start": 16508,
                                                "bin_end": 17101,
                                                "count": 137
                                            },
                                            {
                                                "bin_start": 17101,
                                                "bin_end": 17694,
                                                "count": 201
                                            },
                                            {
                                                "bin_start": 17694,
                                                "bin_end": 18287,
                                                "count": 213
                                            }
                                        ],
                                        "categories": null
                                    }
                                },
                                {
                                    "name": "Country",
                                    "dtype": "object",
                                    "stats": {
                                        "unique_count": 19,
                                        "nan_count": 0,
                                        "min": null,
                                        "max": null,
                                        "histogram": null,
                                        "categories": [
                                            {
                                                "name": "United Kingdom",
                                                "count": 1963
                                            },
                                            {
                                                "name": "France",
                                                "count": 36
                                            },
                                            {
                                                "name": "17 others",
                                                "count": 107
                                            }
                                        ]
                                    }
                                },
                                {
                                    "name": "_deepnote_index_column",
                                    "dtype": "int64"
                                }
                            ],
                            "row_count": 2106,
                            "preview_row_count": 2106,
                            "rows": [
                                {
                                    "InvoiceNo": "536365",
                                    "StockCode": "71053",
                                    "Description": "WHITE METAL LANTERN",
                                    "Quantity": 6,
                                    "InvoiceDate": "12/1/2010 8:26",
                                    "UnitPrice": 3.39,
                                    "CustomerID": 17850,
                                    "Country": "United Kingdom",
                                    "_deepnote_index_column": 1
                                },
                                {
                                    "InvoiceNo": "536365",
                                    "StockCode": "84029G",
                                    "Description": "KNITTED UNION FLAG HOT WATER BOTTLE",
                                    "Quantity": 6,
                                    "InvoiceDate": "12/1/2010 8:26",
                                    "UnitPrice": 3.39,
                                    "CustomerID": 17850,
                                    "Country": "United Kingdom",
                                    "_deepnote_index_column": 3
                                },
                                {
                                    "InvoiceNo": "536365",
                                    "StockCode": "84029E",
                                    "Description": "RED WOOLLY HOTTIE WHITE HEART.",
                                    "Quantity": 6,
                                    "InvoiceDate": "12/1/2010 8:26",
                                    "UnitPrice": 3.39,
                                    "CustomerID": 17850,
                                    "Country": "United Kingdom",
                                    "_deepnote_index_column": 4
                                },
                                {
                                    "InvoiceNo": "536365",
                                    "StockCode": "22752",
                                    "Description": "SET 7 BABUSHKA NESTING BOXES",
                                    "Quantity": 2,
                                    "InvoiceDate": "12/1/2010 8:26",
                                    "UnitPrice": 7.65,
                                    "CustomerID": 17850,
                                    "Country": "United Kingdom",
                                    "_deepnote_index_column": 5
                                },
                                {
                                    "InvoiceNo": "536367",
                                    "StockCode": "22745",
                                    "Description": "POPPY'S PLAYHOUSE BEDROOM ",
                                    "Quantity": 6,
                                    "InvoiceDate": "12/1/2010 8:34",
                                    "UnitPrice": 2.1,
                                    "CustomerID": 13047,
                                    "Country": "United Kingdom",
                                    "_deepnote_index_column": 10
                                },
                                {
                                    "InvoiceNo": "536373",
                                    "StockCode": "71053",
                                    "Description": "WHITE METAL LANTERN",
                                    "Quantity": 6,
                                    "InvoiceDate": "12/1/2010 9:02",
                                    "UnitPrice": 3.39,
                                    "CustomerID": 17850,
                                    "Country": "United Kingdom",
                                    "_deepnote_index_column": 50
                                },
                                {
                                    "InvoiceNo": "536373",
                                    "StockCode": "84029G",
                                    "Description": "KNITTED UNION FLAG HOT WATER BOTTLE",
                                    "Quantity": 6,
                                    "InvoiceDate": "12/1/2010 9:02",
                                    "UnitPrice": 3.39,
                                    "CustomerID": 17850,
                                    "Country": "United Kingdom",
                                    "_deepnote_index_column": 61
                                },
                                {
                                    "InvoiceNo": "536373",
                                    "StockCode": "84029E",
                                    "Description": "RED WOOLLY HOTTIE WHITE HEART.",
                                    "Quantity": 6,
                                    "InvoiceDate": "12/1/2010 9:02",
                                    "UnitPrice": 3.39,
                                    "CustomerID": 17850,
                                    "Country": "United Kingdom",
                                    "_deepnote_index_column": 62
                                },
                                {
                                    "InvoiceNo": "536373",
                                    "StockCode": "22752",
                                    "Description": "SET 7 BABUSHKA NESTING BOXES",
                                    "Quantity": 2,
                                    "InvoiceDate": "12/1/2010 9:02",
                                    "UnitPrice": 7.65,
                                    "CustomerID": 17850,
                                    "Country": "United Kingdom",
                                    "_deepnote_index_column": 63
                                },
                                {
                                    "InvoiceNo": "536375",
                                    "StockCode": "71053",
                                    "Description": "WHITE METAL LANTERN",
                                    "Quantity": 6,
                                    "InvoiceDate": "12/1/2010 9:32",
                                    "UnitPrice": 3.39,
                                    "CustomerID": 17850,
                                    "Country": "United Kingdom",
                                    "_deepnote_index_column": 67
                                }
                            ],
                            "type": "dataframe"
                        },
                        "text/plain": "       InvoiceNo StockCode                          Description  Quantity  \\\n1         536365     71053                  WHITE METAL LANTERN         6   \n3         536365    84029G  KNITTED UNION FLAG HOT WATER BOTTLE         6   \n4         536365    84029E       RED WOOLLY HOTTIE WHITE HEART.         6   \n5         536365     22752         SET 7 BABUSHKA NESTING BOXES         2   \n10        536367     22745           POPPY'S PLAYHOUSE BEDROOM          6   \n...          ...       ...                                  ...       ...   \n541000    581492     22745           POPPY'S PLAYHOUSE BEDROOM          2   \n541320    581497    84029G  KNITTED UNION FLAG HOT WATER BOTTLE        11   \n541511    581498     71053         WHITE MOROCCAN METAL LANTERN         1   \n541520    581498    84029E       RED WOOLLY HOTTIE WHITE HEART.         4   \n541619    581516    84029G  KNITTED UNION FLAG HOT WATER BOTTLE         8   \n\n            InvoiceDate  UnitPrice  CustomerID         Country  \n1        12/1/2010 8:26       3.39     17850.0  United Kingdom  \n3        12/1/2010 8:26       3.39     17850.0  United Kingdom  \n4        12/1/2010 8:26       3.39     17850.0  United Kingdom  \n5        12/1/2010 8:26       7.65     17850.0  United Kingdom  \n10       12/1/2010 8:34       2.10     13047.0  United Kingdom  \n...                 ...        ...         ...             ...  \n541000  12/9/2011 10:03       4.13         NaN  United Kingdom  \n541320  12/9/2011 10:23       8.29         NaN  United Kingdom  \n541511  12/9/2011 10:26       8.29         NaN  United Kingdom  \n541520  12/9/2011 10:26       8.29         NaN  United Kingdom  \n541619  12/9/2011 11:26       4.25     14422.0  United Kingdom  \n\n[2106 rows x 8 columns]",
                        "text/html": "<div>\n<style scoped>\n    .dataframe tbody tr th:only-of-type {\n        vertical-align: middle;\n    }\n\n    .dataframe tbody tr th {\n        vertical-align: top;\n    }\n\n    .dataframe thead th {\n        text-align: right;\n    }\n</style>\n<table border=\"1\" class=\"dataframe\">\n  <thead>\n    <tr style=\"text-align: right;\">\n      <th></th>\n      <th>InvoiceNo</th>\n      <th>StockCode</th>\n      <th>Description</th>\n      <th>Quantity</th>\n      <th>InvoiceDate</th>\n      <th>UnitPrice</th>\n      <th>CustomerID</th>\n      <th>Country</th>\n    </tr>\n  </thead>\n  <tbody>\n    <tr>\n      <th>1</th>\n      <td>536365</td>\n      <td>71053</td>\n      <td>WHITE METAL LANTERN</td>\n      <td>6</td>\n      <td>12/1/2010 8:26</td>\n      <td>3.39</td>\n      <td>17850.0</td>\n      <td>United Kingdom</td>\n    </tr>\n    <tr>\n      <th>3</th>\n      <td>536365</td>\n      <td>84029G</td>\n      <td>KNITTED UNION FLAG HOT WATER BOTTLE</td>\n      <td>6</td>\n      <td>12/1/2010 8:26</td>\n      <td>3.39</td>\n      <td>17850.0</td>\n      <td>United Kingdom</td>\n    </tr>\n    <tr>\n      <th>4</th>\n      <td>536365</td>\n      <td>84029E</td>\n      <td>RED WOOLLY HOTTIE WHITE HEART.</td>\n      <td>6</td>\n      <td>12/1/2010 8:26</td>\n      <td>3.39</td>\n      <td>17850.0</td>\n      <td>United Kingdom</td>\n    </tr>\n    <tr>\n      <th>5</th>\n      <td>536365</td>\n      <td>22752</td>\n      <td>SET 7 BABUSHKA NESTING BOXES</td>\n      <td>2</td>\n      <td>12/1/2010 8:26</td>\n      <td>7.65</td>\n      <td>17850.0</td>\n      <td>United Kingdom</td>\n    </tr>\n    <tr>\n      <th>10</th>\n      <td>536367</td>\n      <td>22745</td>\n      <td>POPPY'S PLAYHOUSE BEDROOM</td>\n      <td>6</td>\n      <td>12/1/2010 8:34</td>\n      <td>2.10</td>\n      <td>13047.0</td>\n      <td>United Kingdom</td>\n    </tr>\n    <tr>\n      <th>...</th>\n      <td>...</td>\n      <td>...</td>\n      <td>...</td>\n      <td>...</td>\n      <td>...</td>\n      <td>...</td>\n      <td>...</td>\n      <td>...</td>\n    </tr>\n    <tr>\n      <th>541000</th>\n      <td>581492</td>\n      <td>22745</td>\n      <td>POPPY'S PLAYHOUSE BEDROOM</td>\n      <td>2</td>\n      <td>12/9/2011 10:03</td>\n      <td>4.13</td>\n      <td>NaN</td>\n      <td>United Kingdom</td>\n    </tr>\n    <tr>\n      <th>541320</th>\n      <td>581497</td>\n      <td>84029G</td>\n      <td>KNITTED UNION FLAG HOT WATER BOTTLE</td>\n      <td>11</td>\n      <td>12/9/2011 10:23</td>\n      <td>8.29</td>\n      <td>NaN</td>\n      <td>United Kingdom</td>\n    </tr>\n    <tr>\n      <th>541511</th>\n      <td>581498</td>\n      <td>71053</td>\n      <td>WHITE MOROCCAN METAL LANTERN</td>\n      <td>1</td>\n      <td>12/9/2011 10:26</td>\n      <td>8.29</td>\n      <td>NaN</td>\n      <td>United Kingdom</td>\n    </tr>\n    <tr>\n      <th>541520</th>\n      <td>581498</td>\n      <td>84029E</td>\n      <td>RED WOOLLY HOTTIE WHITE HEART.</td>\n      <td>4</td>\n      <td>12/9/2011 10:26</td>\n      <td>8.29</td>\n      <td>NaN</td>\n      <td>United Kingdom</td>\n    </tr>\n    <tr>\n      <th>541619</th>\n      <td>581516</td>\n      <td>84029G</td>\n      <td>KNITTED UNION FLAG HOT WATER BOTTLE</td>\n      <td>8</td>\n      <td>12/9/2011 11:26</td>\n      <td>4.25</td>\n      <td>14422.0</td>\n      <td>United Kingdom</td>\n    </tr>\n  </tbody>\n</table>\n<p>2106 rows × 8 columns</p>\n</div>"
                    },
                    "metadata": {}
                }
            ],
            "outputs_reference": "s3:deepnote-cell-outputs-production/5d9bd49e-8c56-4018-9844-8e5b08a86937",
            "content_dependencies": null
        },
        {
            "cell_type": "code",
            "metadata": {
                "source_hash": "5e75cd28",
                "execution_start": 1753222848321,
                "execution_millis": 209,
                "execution_context_id": "d437e712-ebcb-42d8-8eed-ce125eeaa85b",
                "cell_id": "68c7d078b03849e6af8d2b3079655852",
                "deepnote_cell_type": "code"
            },
            "source": "#Convert 'InvoiceDate' to datetime format\nimport datetime as dt\n\ndf2 = df.copy()\ndf2.InvoiceDate = pd.to_datetime(df2.InvoiceDate, format='%m/%d/%Y %H:%M').dt.date",
            "block_group": "580b90542db444c28fa63a4ec3686623",
            "execution_count": 7,
            "outputs": [],
            "outputs_reference": null,
            "content_dependencies": null
        },
        {
            "cell_type": "code",
            "metadata": {
                "source_hash": "eebfed60",
                "execution_start": 1753222848608,
                "execution_millis": 1,
                "execution_context_id": "d437e712-ebcb-42d8-8eed-ce125eeaa85b",
                "cell_id": "3837d777fd44480e8926dbf4ebc5f670",
                "deepnote_cell_type": "code"
            },
            "source": "#Get the Top ten Products in the store\ntop_cats = []\n\nfor i,cat in enumerate(list(df2.StockCode.unique())):\n    if i <= 10:\n        top_cats.append(cat)\n    i+=1\n\ntop_cats",
            "block_group": "0ab795fa08a5480498bce36bb076c4c5",
            "execution_count": 8,
            "outputs": [
                {
                    "output_type": "execute_result",
                    "execution_count": 8,
                    "data": {
                        "text/plain": "['85123A',\n '71053',\n '84406B',\n '84029G',\n '84029E',\n '22752',\n '21730',\n '22633',\n '22632',\n '84879',\n '22745']"
                    },
                    "metadata": {}
                }
            ],
            "outputs_reference": "dbtable:cell_outputs/ec8c218a-bef3-4281-941a-71fd271fc1d7",
            "content_dependencies": null
        },
        {
            "cell_type": "code",
            "metadata": {
                "source_hash": "adfaf6a6",
                "execution_start": 1753222848658,
                "execution_millis": 24,
                "execution_context_id": "d437e712-ebcb-42d8-8eed-ce125eeaa85b",
                "cell_id": "26993d39203f4d988d92da463cd73b02",
                "deepnote_cell_type": "code"
            },
            "source": "#Slice df and filter for only the top ten categories\ndf2 = df2[['InvoiceDate', 'StockCode', 'Quantity', 'UnitPrice']]\ndf2 = df2[df2['StockCode'].isin(top_cats)]",
            "block_group": "bbe67b15dd004f68ae74237760ed38f8",
            "execution_count": 9,
            "outputs": [],
            "outputs_reference": null,
            "content_dependencies": null
        },
        {
            "cell_type": "code",
            "metadata": {
                "source_hash": "b600587",
                "execution_start": 1753222848739,
                "execution_millis": 67,
                "is_output_hidden": true,
                "execution_context_id": "d437e712-ebcb-42d8-8eed-ce125eeaa85b",
                "deepnote_app_is_output_hidden": true,
                "cell_id": "5f724b616d9b4824916212c8dc2fdc8a",
                "deepnote_cell_type": "code"
            },
            "source": "import numpy as np\nresults_by_category = {}\n\n#Loop through each category and run a linear regression ont he full set of that particular category\nfor category, group in df2.groupby(\"StockCode\"):\n    try:\n        #Remove all records with zero quantity or unit price\n        group = group[(group[\"UnitPrice\"] > 0) & (group[\"Quantity\"] > 0)]\n\n        # Log transform\n        x = np.log(group[\"UnitPrice\"])\n        y = np.log(group[\"Quantity\"])\n\n        # Add constant\n        x = sm.add_constant(x)\n\n        # Fit model\n        model = sm.OLS(y, x).fit()\n\n        # Store result\n        results_by_category[category] = model\n\n        print(f\"\\nCategory: {category}\")\n        print(model.summary())\n    except Exception as e:\n        print(f\"Could not model category {category}: {e}\")",
            "block_group": "d80b91ab6e8b435facc4931ab126b177",
            "execution_count": 10,
            "outputs": [
                {
                    "name": "stdout",
                    "text": "\nCategory: 21730\n                            OLS Regression Results                            \n==============================================================================\nDep. Variable:               Quantity   R-squared:                       0.195\nModel:                            OLS   Adj. R-squared:                  0.189\nMethod:                 Least Squares   F-statistic:                     31.48\nDate:                Tue, 22 Jul 2025   Prob (F-statistic):           1.16e-07\nTime:                        22:20:48   Log-Likelihood:                -145.02\nNo. Observations:                 132   AIC:                             294.0\nDf Residuals:                     130   BIC:                             299.8\nDf Model:                           1                                         \nCovariance Type:            nonrobust                                         \n==============================================================================\n                 coef    std err          t      P>|t|      [0.025      0.975]\n------------------------------------------------------------------------------\nconst          3.5278      0.452      7.808      0.000       2.634       4.422\nUnitPrice     -1.5255      0.272     -5.611      0.000      -2.063      -0.988\n==============================================================================\nOmnibus:                        1.197   Durbin-Watson:                   1.844\nProb(Omnibus):                  0.550   Jarque-Bera (JB):                1.294\nSkew:                           0.197   Prob(JB):                        0.524\nKurtosis:                       2.718   Cond. No.                         16.0\n==============================================================================\n\nNotes:\n[1] Standard Errors assume that the covariance matrix of the errors is correctly specified.\n\nCategory: 22632\n                            OLS Regression Results                            \n==============================================================================\nDep. Variable:               Quantity   R-squared:                       0.144\nModel:                            OLS   Adj. R-squared:                  0.142\nMethod:                 Least Squares   F-statistic:                     67.82\nDate:                Tue, 22 Jul 2025   Prob (F-statistic):           2.53e-15\nTime:                        22:20:48   Log-Likelihood:                -609.22\nNo. Observations:                 405   AIC:                             1222.\nDf Residuals:                     403   BIC:                             1230.\nDf Model:                           1                                         \nCovariance Type:            nonrobust                                         \n==============================================================================\n                 coef    std err          t      P>|t|      [0.025      0.975]\n------------------------------------------------------------------------------\nconst          3.6035      0.248     14.533      0.000       3.116       4.091\nUnitPrice     -2.5710      0.312     -8.235      0.000      -3.185      -1.957\n==============================================================================\nOmnibus:                        6.904   Durbin-Watson:                   1.683\nProb(Omnibus):                  0.032   Jarque-Bera (JB):                6.306\nSkew:                           0.247   Prob(JB):                       0.0427\nKurtosis:                       2.641   Cond. No.                         9.28\n==============================================================================\n\nNotes:\n[1] Standard Errors assume that the covariance matrix of the errors is correctly specified.\n\nCategory: 22633\n                            OLS Regression Results                            \n==============================================================================\nDep. Variable:               Quantity   R-squared:                       0.072\nModel:                            OLS   Adj. R-squared:                  0.070\nMethod:                 Least Squares   F-statistic:                     39.37\nDate:                Tue, 22 Jul 2025   Prob (F-statistic):           7.53e-10\nTime:                        22:20:48   Log-Likelihood:                -784.07\nNo. Observations:                 508   AIC:                             1572.\nDf Residuals:                     506   BIC:                             1581.\nDf Model:                           1                                         \nCovariance Type:            nonrobust                                         \n==============================================================================\n                 coef    std err          t      P>|t|      [0.025      0.975]\n------------------------------------------------------------------------------\nconst          2.9966      0.249     12.031      0.000       2.507       3.486\nUnitPrice     -1.9867      0.317     -6.275      0.000      -2.609      -1.365\n==============================================================================\nOmnibus:                       16.726   Durbin-Watson:                   1.508\nProb(Omnibus):                  0.000   Jarque-Bera (JB):               17.848\nSkew:                           0.452   Prob(JB):                     0.000133\nKurtosis:                       2.837   Cond. No.                         10.1\n==============================================================================\n\nNotes:\n[1] Standard Errors assume that the covariance matrix of the errors is correctly specified.\n\nCategory: 22745\n                            OLS Regression Results                            \n==============================================================================\nDep. Variable:               Quantity   R-squared:                       0.164\nModel:                            OLS   Adj. R-squared:                  0.162\nMethod:                 Least Squares   F-statistic:                     84.33\nDate:                Tue, 22 Jul 2025   Prob (F-statistic):           1.77e-18\nTime:                        22:20:48   Log-Likelihood:                -551.07\nNo. Observations:                 433   AIC:                             1106.\nDf Residuals:                     431   BIC:                             1114.\nDf Model:                           1                                         \nCovariance Type:            nonrobust                                         \n==============================================================================\n                 coef    std err          t      P>|t|      [0.025      0.975]\n------------------------------------------------------------------------------\nconst          2.2761      0.143     15.947      0.000       1.996       2.557\nUnitPrice     -1.4081      0.153     -9.183      0.000      -1.710      -1.107\n==============================================================================\nOmnibus:                       27.731   Durbin-Watson:                   1.827\nProb(Omnibus):                  0.000   Jarque-Bera (JB):               36.668\nSkew:                           0.520   Prob(JB):                     1.09e-08\nKurtosis:                       3.976   Cond. No.                         6.73\n==============================================================================\n\nNotes:\n[1] Standard Errors assume that the covariance matrix of the errors is correctly specified.\n\nCategory: 22752\n                            OLS Regression Results                            \n==============================================================================\nDep. Variable:               Quantity   R-squared:                       0.231\nModel:                            OLS   Adj. R-squared:                  0.229\nMethod:                 Least Squares   F-statistic:                     114.8\nDate:                Tue, 22 Jul 2025   Prob (F-statistic):           1.33e-23\nTime:                        22:20:48   Log-Likelihood:                -477.03\nNo. Observations:                 384   AIC:                             958.1\nDf Residuals:                     382   BIC:                             966.0\nDf Model:                           1                                         \nCovariance Type:            nonrobust                                         \n==============================================================================\n                 coef    std err          t      P>|t|      [0.025      0.975]\n------------------------------------------------------------------------------\nconst          4.1940      0.314     13.344      0.000       3.576       4.812\nUnitPrice     -1.4956      0.140    -10.715      0.000      -1.770      -1.221\n==============================================================================\nOmnibus:                       79.678   Durbin-Watson:                   1.918\nProb(Omnibus):                  0.000   Jarque-Bera (JB):              140.873\nSkew:                           1.176   Prob(JB):                     2.57e-31\nKurtosis:                       4.810   Cond. No.                         19.7\n==============================================================================\n\nNotes:\n[1] Standard Errors assume that the covariance matrix of the errors is correctly specified.\n\nCategory: 71053\n                            OLS Regression Results                            \n==============================================================================\nDep. Variable:               Quantity   R-squared:                       0.135\nModel:                            OLS   Adj. R-squared:                  0.133\nMethod:                 Least Squares   F-statistic:                     53.80\nDate:                Tue, 22 Jul 2025   Prob (F-statistic):           1.60e-12\nTime:                        22:20:48   Log-Likelihood:                -442.33\nNo. Observations:                 346   AIC:                             888.7\nDf Residuals:                     344   BIC:                             896.3\nDf Model:                           1                                         \nCovariance Type:            nonrobust                                         \n==============================================================================\n                 coef    std err          t      P>|t|      [0.025      0.975]\n------------------------------------------------------------------------------\nconst          2.6983      0.208     12.979      0.000       2.289       3.107\nUnitPrice     -0.9892      0.135     -7.335      0.000      -1.254      -0.724\n==============================================================================\nOmnibus:                       38.033   Durbin-Watson:                   1.765\nProb(Omnibus):                  0.000   Jarque-Bera (JB):               49.769\nSkew:                           0.792   Prob(JB):                     1.56e-11\nKurtosis:                       3.972   Cond. No.                         9.62\n==============================================================================\n\nNotes:\n[1] Standard Errors assume that the covariance matrix of the errors is correctly specified.\n\nCategory: 84029E\n                            OLS Regression Results                            \n==============================================================================\nDep. Variable:               Quantity   R-squared:                       0.075\nModel:                            OLS   Adj. R-squared:                  0.073\nMethod:                 Least Squares   F-statistic:                     35.57\nDate:                Tue, 22 Jul 2025   Prob (F-statistic):           5.05e-09\nTime:                        22:20:48   Log-Likelihood:                -670.08\nNo. Observations:                 443   AIC:                             1344.\nDf Residuals:                     441   BIC:                             1352.\nDf Model:                           1                                         \nCovariance Type:            nonrobust                                         \n==============================================================================\n                 coef    std err          t      P>|t|      [0.025      0.975]\n------------------------------------------------------------------------------\nconst          2.8521      0.248     11.504      0.000       2.365       3.339\nUnitPrice     -0.9217      0.155     -5.964      0.000      -1.225      -0.618\n==============================================================================\nOmnibus:                       83.269   Durbin-Watson:                   1.947\nProb(Omnibus):                  0.000   Jarque-Bera (JB):              146.505\nSkew:                           1.087   Prob(JB):                     1.54e-32\nKurtosis:                       4.791   Cond. No.                         10.5\n==============================================================================\n\nNotes:\n[1] Standard Errors assume that the covariance matrix of the errors is correctly specified.\n\nCategory: 84029G\n                            OLS Regression Results                            \n==============================================================================\nDep. Variable:               Quantity   R-squared:                       0.067\nModel:                            OLS   Adj. R-squared:                  0.065\nMethod:                 Least Squares   F-statistic:                     33.44\nDate:                Tue, 22 Jul 2025   Prob (F-statistic):           1.35e-08\nTime:                        22:20:48   Log-Likelihood:                -675.11\nNo. Observations:                 469   AIC:                             1354.\nDf Residuals:                     467   BIC:                             1363.\nDf Model:                           1                                         \nCovariance Type:            nonrobust                                         \n==============================================================================\n                 coef    std err          t      P>|t|      [0.025      0.975]\n------------------------------------------------------------------------------\nconst          2.5563      0.225     11.354      0.000       2.114       2.999\nUnitPrice     -0.8026      0.139     -5.783      0.000      -1.075      -0.530\n==============================================================================\nOmnibus:                       38.621   Durbin-Watson:                   1.785\nProb(Omnibus):                  0.000   Jarque-Bera (JB):               45.824\nSkew:                           0.737   Prob(JB):                     1.12e-10\nKurtosis:                       3.413   Cond. No.                         10.6\n==============================================================================\n\nNotes:\n[1] Standard Errors assume that the covariance matrix of the errors is correctly specified.\n\nCategory: 84406B\n                            OLS Regression Results                            \n==============================================================================\nDep. Variable:               Quantity   R-squared:                       0.200\nModel:                            OLS   Adj. R-squared:                  0.197\nMethod:                 Least Squares   F-statistic:                     71.06\nDate:                Tue, 22 Jul 2025   Prob (F-statistic):           1.75e-15\nTime:                        22:20:48   Log-Likelihood:                -394.55\nNo. Observations:                 287   AIC:                             793.1\nDf Residuals:                     285   BIC:                             800.4\nDf Model:                           1                                         \nCovariance Type:            nonrobust                                         \n==============================================================================\n                 coef    std err          t      P>|t|      [0.025      0.975]\n------------------------------------------------------------------------------\nconst          3.7465      0.303     12.359      0.000       3.150       4.343\nUnitPrice     -1.7677      0.210     -8.430      0.000      -2.180      -1.355\n==============================================================================\nOmnibus:                       24.000   Durbin-Watson:                   1.652\nProb(Omnibus):                  0.000   Jarque-Bera (JB):               29.827\nSkew:                           0.636   Prob(JB):                     3.34e-07\nKurtosis:                       3.936   Cond. No.                         11.3\n==============================================================================\n\nNotes:\n[1] Standard Errors assume that the covariance matrix of the errors is correctly specified.\n\nCategory: 84879\n                            OLS Regression Results                            \n==============================================================================\nDep. Variable:               Quantity   R-squared:                       0.044\nModel:                            OLS   Adj. R-squared:                  0.043\nMethod:                 Least Squares   F-statistic:                     67.72\nDate:                Tue, 22 Jul 2025   Prob (F-statistic):           4.07e-16\nTime:                        22:20:48   Log-Likelihood:                -1914.9\nNo. Observations:                1489   AIC:                             3834.\nDf Residuals:                    1487   BIC:                             3844.\nDf Model:                           1                                         \nCovariance Type:            nonrobust                                         \n==============================================================================\n                 coef    std err          t      P>|t|      [0.025      0.975]\n------------------------------------------------------------------------------\nconst          3.5058      0.112     31.296      0.000       3.286       3.726\nUnitPrice     -1.6834      0.205     -8.229      0.000      -2.085      -1.282\n==============================================================================\nOmnibus:                      127.499   Durbin-Watson:                   1.877\nProb(Omnibus):                  0.000   Jarque-Bera (JB):              353.317\nSkew:                           0.453   Prob(JB):                     1.90e-77\nKurtosis:                       5.208   Cond. No.                         11.6\n==============================================================================\n\nNotes:\n[1] Standard Errors assume that the covariance matrix of the errors is correctly specified.\n\nCategory: 85123A\n                            OLS Regression Results                            \n==============================================================================\nDep. Variable:               Quantity   R-squared:                       0.216\nModel:                            OLS   Adj. R-squared:                  0.216\nMethod:                 Least Squares   F-statistic:                     624.8\nDate:                Tue, 22 Jul 2025   Prob (F-statistic):          5.69e-122\nTime:                        22:20:48   Log-Likelihood:                -3290.4\nNo. Observations:                2265   AIC:                             6585.\nDf Residuals:                    2263   BIC:                             6596.\nDf Model:                           1                                         \nCovariance Type:            nonrobust                                         \n==============================================================================\n                 coef    std err          t      P>|t|      [0.025      0.975]\n------------------------------------------------------------------------------\nconst          4.9145      0.124     39.605      0.000       4.671       5.158\nUnitPrice     -2.7427      0.110    -24.995      0.000      -2.958      -2.528\n==============================================================================\nOmnibus:                      151.516   Durbin-Watson:                   1.774\nProb(Omnibus):                  0.000   Jarque-Bera (JB):              280.404\nSkew:                           0.478   Prob(JB):                     1.29e-61\nKurtosis:                       4.434   Cond. No.                         11.4\n==============================================================================\n\nNotes:\n[1] Standard Errors assume that the covariance matrix of the errors is correctly specified.\n",
                    "output_type": "stream"
                }
            ],
            "outputs_reference": "s3:deepnote-cell-outputs-production/c3df8dfa-648a-419c-b53d-ecaeea37ef51",
            "content_dependencies": null
        },
        {
            "cell_type": "code",
            "metadata": {
                "source_hash": "3549cd3c",
                "execution_start": 1753222848858,
                "execution_millis": 1,
                "deepnote_table_state": {
                    "sortBy": [],
                    "filters": [],
                    "pageSize": 10,
                    "pageIndex": 0,
                    "columnOrder": [
                        "Category",
                        "Elasticity",
                        "p-value",
                        "R-squared"
                    ],
                    "hiddenColumnIds": [],
                    "columnDisplayNames": [],
                    "conditionalFilters": [],
                    "cellFormattingRules": [],
                    "wrappedTextColumnIds": []
                },
                "execution_context_id": "d437e712-ebcb-42d8-8eed-ce125eeaa85b",
                "deepnote_table_loading": false,
                "cell_id": "c0052e0a320d4efca4760ff71f656945",
                "deepnote_cell_type": "code"
            },
            "source": "#Create a datafram of the elasticities and add statistical values\n\nelasticity_df = pd.DataFrame({\n    'Category': cat,\n    'Elasticity': round(model.params[1],3),\n    'p-value': round(model.pvalues[1],3),\n    'R-squared': round(model.rsquared,3)\n}\nfor cat,model in results_by_category.items())\n\nelasticity_df.sort_values('Elasticity', ascending=False)",
            "block_group": "ea44597a0f6040e3b2461a2031cfe37b",
            "execution_count": 11,
            "outputs": [
                {
                    "name": "stderr",
                    "text": "/tmp/ipykernel_108/2665914414.py:10: FutureWarning: Series.__getitem__ treating keys as positions is deprecated. In a future version, integer keys will always be treated as labels (consistent with DataFrame behavior). To access a value by position, use `ser.iloc[pos]`\n  'Elasticity': round(model.params[1],3),\n/tmp/ipykernel_108/2665914414.py:11: FutureWarning: Series.__getitem__ treating keys as positions is deprecated. In a future version, integer keys will always be treated as labels (consistent with DataFrame behavior). To access a value by position, use `ser.iloc[pos]`\n  'p-value': round(model.pvalues[1],3),\n",
                    "output_type": "stream"
                },
                {
                    "output_type": "execute_result",
                    "execution_count": 16,
                    "data": {
                        "application/vnd.deepnote.dataframe.v3+json": {
                            "column_count": 4,
                            "columns": [
                                {
                                    "name": "Category",
                                    "dtype": "object",
                                    "stats": {
                                        "unique_count": 11,
                                        "nan_count": 0,
                                        "min": null,
                                        "max": null,
                                        "histogram": null,
                                        "categories": [
                                            {
                                                "name": "84029G",
                                                "count": 1
                                            },
                                            {
                                                "name": "84029E",
                                                "count": 1
                                            },
                                            {
                                                "name": "9 others",
                                                "count": 9
                                            }
                                        ]
                                    }
                                },
                                {
                                    "name": "Elasticity",
                                    "dtype": "float64",
                                    "stats": {
                                        "unique_count": 11,
                                        "nan_count": 0,
                                        "min": "-2.743",
                                        "max": "-0.803",
                                        "histogram": [
                                            {
                                                "bin_start": -2.743,
                                                "bin_end": -2.549,
                                                "count": 2
                                            },
                                            {
                                                "bin_start": -2.549,
                                                "bin_end": -2.355,
                                                "count": 0
                                            },
                                            {
                                                "bin_start": -2.355,
                                                "bin_end": -2.1609999999999996,
                                                "count": 0
                                            },
                                            {
                                                "bin_start": -2.1609999999999996,
                                                "bin_end": -1.9669999999999999,
                                                "count": 1
                                            },
                                            {
                                                "bin_start": -1.9669999999999999,
                                                "bin_end": -1.773,
                                                "count": 0
                                            },
                                            {
                                                "bin_start": -1.773,
                                                "bin_end": -1.5789999999999997,
                                                "count": 2
                                            },
                                            {
                                                "bin_start": -1.5789999999999997,
                                                "bin_end": -1.3849999999999998,
                                                "count": 3
                                            },
                                            {
                                                "bin_start": -1.3849999999999998,
                                                "bin_end": -1.1909999999999998,
                                                "count": 0
                                            },
                                            {
                                                "bin_start": -1.1909999999999998,
                                                "bin_end": -0.9969999999999999,
                                                "count": 0
                                            },
                                            {
                                                "bin_start": -0.9969999999999999,
                                                "bin_end": -0.803,
                                                "count": 3
                                            }
                                        ],
                                        "categories": null
                                    }
                                },
                                {
                                    "name": "p-value",
                                    "dtype": "float64",
                                    "stats": {
                                        "unique_count": 1,
                                        "nan_count": 0,
                                        "min": "0.0",
                                        "max": "0.0",
                                        "histogram": [
                                            {
                                                "bin_start": -0.5,
                                                "bin_end": -0.4,
                                                "count": 0
                                            },
                                            {
                                                "bin_start": -0.4,
                                                "bin_end": -0.3,
                                                "count": 0
                                            },
                                            {
                                                "bin_start": -0.3,
                                                "bin_end": -0.19999999999999996,
                                                "count": 0
                                            },
                                            {
                                                "bin_start": -0.19999999999999996,
                                                "bin_end": -0.09999999999999998,
                                                "count": 0
                                            },
                                            {
                                                "bin_start": -0.09999999999999998,
                                                "bin_end": 0,
                                                "count": 0
                                            },
                                            {
                                                "bin_start": 0,
                                                "bin_end": 0.10000000000000009,
                                                "count": 11
                                            },
                                            {
                                                "bin_start": 0.10000000000000009,
                                                "bin_end": 0.20000000000000007,
                                                "count": 0
                                            },
                                            {
                                                "bin_start": 0.20000000000000007,
                                                "bin_end": 0.30000000000000004,
                                                "count": 0
                                            },
                                            {
                                                "bin_start": 0.30000000000000004,
                                                "bin_end": 0.4,
                                                "count": 0
                                            },
                                            {
                                                "bin_start": 0.4,
                                                "bin_end": 0.5,
                                                "count": 0
                                            }
                                        ],
                                        "categories": null
                                    }
                                },
                                {
                                    "name": "R-squared",
                                    "dtype": "float64",
                                    "stats": {
                                        "unique_count": 11,
                                        "nan_count": 0,
                                        "min": "0.044",
                                        "max": "0.231",
                                        "histogram": [
                                            {
                                                "bin_start": 0.044,
                                                "bin_end": 0.0627,
                                                "count": 1
                                            },
                                            {
                                                "bin_start": 0.0627,
                                                "bin_end": 0.0814,
                                                "count": 3
                                            },
                                            {
                                                "bin_start": 0.0814,
                                                "bin_end": 0.1001,
                                                "count": 0
                                            },
                                            {
                                                "bin_start": 0.1001,
                                                "bin_end": 0.1188,
                                                "count": 0
                                            },
                                            {
                                                "bin_start": 0.1188,
                                                "bin_end": 0.1375,
                                                "count": 1
                                            },
                                            {
                                                "bin_start": 0.1375,
                                                "bin_end": 0.1562,
                                                "count": 1
                                            },
                                            {
                                                "bin_start": 0.1562,
                                                "bin_end": 0.1749,
                                                "count": 1
                                            },
                                            {
                                                "bin_start": 0.1749,
                                                "bin_end": 0.1936,
                                                "count": 0
                                            },
                                            {
                                                "bin_start": 0.1936,
                                                "bin_end": 0.2123,
                                                "count": 2
                                            },
                                            {
                                                "bin_start": 0.2123,
                                                "bin_end": 0.231,
                                                "count": 2
                                            }
                                        ],
                                        "categories": null
                                    }
                                },
                                {
                                    "name": "_deepnote_index_column",
                                    "dtype": "int64"
                                }
                            ],
                            "row_count": 11,
                            "preview_row_count": 11,
                            "rows": [
                                {
                                    "Category": "84029G",
                                    "Elasticity": -0.803,
                                    "p-value": 0,
                                    "R-squared": 0.067,
                                    "_deepnote_index_column": 7
                                },
                                {
                                    "Category": "84029E",
                                    "Elasticity": -0.922,
                                    "p-value": 0,
                                    "R-squared": 0.075,
                                    "_deepnote_index_column": 6
                                },
                                {
                                    "Category": "71053",
                                    "Elasticity": -0.989,
                                    "p-value": 0,
                                    "R-squared": 0.135,
                                    "_deepnote_index_column": 5
                                },
                                {
                                    "Category": "22745",
                                    "Elasticity": -1.408,
                                    "p-value": 0,
                                    "R-squared": 0.164,
                                    "_deepnote_index_column": 3
                                },
                                {
                                    "Category": "22752",
                                    "Elasticity": -1.496,
                                    "p-value": 0,
                                    "R-squared": 0.231,
                                    "_deepnote_index_column": 4
                                },
                                {
                                    "Category": "21730",
                                    "Elasticity": -1.525,
                                    "p-value": 0,
                                    "R-squared": 0.195,
                                    "_deepnote_index_column": 0
                                },
                                {
                                    "Category": "84879",
                                    "Elasticity": -1.683,
                                    "p-value": 0,
                                    "R-squared": 0.044,
                                    "_deepnote_index_column": 9
                                },
                                {
                                    "Category": "84406B",
                                    "Elasticity": -1.768,
                                    "p-value": 0,
                                    "R-squared": 0.2,
                                    "_deepnote_index_column": 8
                                },
                                {
                                    "Category": "22633",
                                    "Elasticity": -1.987,
                                    "p-value": 0,
                                    "R-squared": 0.072,
                                    "_deepnote_index_column": 2
                                },
                                {
                                    "Category": "22632",
                                    "Elasticity": -2.571,
                                    "p-value": 0,
                                    "R-squared": 0.144,
                                    "_deepnote_index_column": 1
                                }
                            ],
                            "type": "dataframe"
                        },
                        "text/plain": "   Category  Elasticity  p-value  R-squared\n7    84029G      -0.803      0.0      0.067\n6    84029E      -0.922      0.0      0.075\n5     71053      -0.989      0.0      0.135\n3     22745      -1.408      0.0      0.164\n4     22752      -1.496      0.0      0.231\n0     21730      -1.525      0.0      0.195\n9     84879      -1.683      0.0      0.044\n8    84406B      -1.768      0.0      0.200\n2     22633      -1.987      0.0      0.072\n1     22632      -2.571      0.0      0.144\n10   85123A      -2.743      0.0      0.216",
                        "text/html": "<div>\n<style scoped>\n    .dataframe tbody tr th:only-of-type {\n        vertical-align: middle;\n    }\n\n    .dataframe tbody tr th {\n        vertical-align: top;\n    }\n\n    .dataframe thead th {\n        text-align: right;\n    }\n</style>\n<table border=\"1\" class=\"dataframe\">\n  <thead>\n    <tr style=\"text-align: right;\">\n      <th></th>\n      <th>Category</th>\n      <th>Elasticity</th>\n      <th>p-value</th>\n      <th>R-squared</th>\n    </tr>\n  </thead>\n  <tbody>\n    <tr>\n      <th>7</th>\n      <td>84029G</td>\n      <td>-0.803</td>\n      <td>0.0</td>\n      <td>0.067</td>\n    </tr>\n    <tr>\n      <th>6</th>\n      <td>84029E</td>\n      <td>-0.922</td>\n      <td>0.0</td>\n      <td>0.075</td>\n    </tr>\n    <tr>\n      <th>5</th>\n      <td>71053</td>\n      <td>-0.989</td>\n      <td>0.0</td>\n      <td>0.135</td>\n    </tr>\n    <tr>\n      <th>3</th>\n      <td>22745</td>\n      <td>-1.408</td>\n      <td>0.0</td>\n      <td>0.164</td>\n    </tr>\n    <tr>\n      <th>4</th>\n      <td>22752</td>\n      <td>-1.496</td>\n      <td>0.0</td>\n      <td>0.231</td>\n    </tr>\n    <tr>\n      <th>0</th>\n      <td>21730</td>\n      <td>-1.525</td>\n      <td>0.0</td>\n      <td>0.195</td>\n    </tr>\n    <tr>\n      <th>9</th>\n      <td>84879</td>\n      <td>-1.683</td>\n      <td>0.0</td>\n      <td>0.044</td>\n    </tr>\n    <tr>\n      <th>8</th>\n      <td>84406B</td>\n      <td>-1.768</td>\n      <td>0.0</td>\n      <td>0.200</td>\n    </tr>\n    <tr>\n      <th>2</th>\n      <td>22633</td>\n      <td>-1.987</td>\n      <td>0.0</td>\n      <td>0.072</td>\n    </tr>\n    <tr>\n      <th>1</th>\n      <td>22632</td>\n      <td>-2.571</td>\n      <td>0.0</td>\n      <td>0.144</td>\n    </tr>\n    <tr>\n      <th>10</th>\n      <td>85123A</td>\n      <td>-2.743</td>\n      <td>0.0</td>\n      <td>0.216</td>\n    </tr>\n  </tbody>\n</table>\n</div>"
                    },
                    "metadata": {}
                }
            ],
            "outputs_reference": "s3:deepnote-cell-outputs-production/6efb505a-4f11-4b16-9a14-d100fb474754",
            "content_dependencies": null
        },
        {
            "cell_type": "code",
            "metadata": {
                "source_hash": "ea9fb752",
                "execution_start": 1753222848908,
                "execution_millis": 0,
                "execution_context_id": "d437e712-ebcb-42d8-8eed-ce125eeaa85b",
                "cell_id": "89ce9eb881714056ae7df84e41500f2e",
                "deepnote_cell_type": "code"
            },
            "source": "df_bottle = df2[['InvoiceDate', 'StockCode', 'Quantity', 'UnitPrice']].copy()\n\n# Convert 'InvoiceDate' to datetime format\ndf_bottle['InvoiceDate'] = pd.to_datetime(df_bottle['InvoiceDate'])\n\n# Set 'InvoiceDate' as the index\ndf_bottle.set_index('InvoiceDate', inplace=True)\n\n# Filter for StockCode '84029G'\ndf_bottle = df_bottle[df_bottle['StockCode'] == '84029G']\n\n# Drop non-numeric columns before resampling\ndf_bottle = df_bottle[['Quantity', 'UnitPrice']]\n\n# Sort the index\ndf_bottle.sort_index(inplace=True)",
            "block_group": "f8e17fafef674765b282d06781f11eb8",
            "execution_count": 12,
            "outputs": [],
            "outputs_reference": null,
            "content_dependencies": null
        },
        {
            "cell_type": "markdown",
            "metadata": {
                "cell_id": "741b22854d3a4a848e37c4523bfd3580",
                "deepnote_cell_type": "markdown"
            },
            "source": "## Visualize Price and Demand average MoM\nThis step helps identify opportunities to increase price for inelastic products for seasonal demand and predict stock needs.",
            "block_group": "acdb9caa8099438a9fccae12533cbb22"
        },
        {
            "cell_type": "code",
            "metadata": {
                "source_hash": "845195ab",
                "execution_start": 1753222848958,
                "execution_millis": 746,
                "execution_context_id": "d437e712-ebcb-42d8-8eed-ce125eeaa85b",
                "cell_id": "40008794685e47158aa6e6cd63222401",
                "deepnote_cell_type": "code"
            },
            "source": "import matplotlib.pyplot as plt\n\n# Resample weekly and calculate the mean\ndf_resampled = df_bottle.resample('M').mean()\n\ndf_resampled.shape\n\ndf_resampled.Quantity.plot(secondary_y=True, legend = 1)\ndf_resampled.UnitPrice.plot(legend = 1)\nplt.show()",
            "block_group": "5bec633452854341bc9378ff2810c43f",
            "execution_count": 13,
            "outputs": [
                {
                    "data": {
                        "text/plain": "<Figure size 640x480 with 2 Axes>",
                        "image/png": "[encoded data removed]"
                    },
                    "metadata": {
                        "image/png": {
                            "width": 588,
                            "height": 449
                        }
                    },
                    "output_type": "display_data"
                }
            ],
            "outputs_reference": "s3:deepnote-cell-outputs-production/de9bcb80-0952-402e-9c3d-d33edd300be6",
            "content_dependencies": null
        },
        {
            "cell_type": "markdown",
            "source": "<a style='text-decoration:none;line-height:16px;display:flex;color:#5B5B62;padding:10px;justify-content:end;' href='https://deepnote.com?utm_source=created-in-deepnote-cell&projectId=f738fa55-7339-4125-bf55-c4a398451c3f' target=\"_blank\">\n<img alt='Created in deepnote.com' style='display:inline;max-height:16px;margin:0px;margin-right:7.5px;' src='data:image/svg+xml;base64,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' > </img>\nCreated in <span style='font-weight:600;margin-left:4px;'>Deepnote</span></a>",
            "metadata": {
                "created_in_deepnote_cell": true,
                "deepnote_cell_type": "markdown"
            }
        }
    ],
    "nbformat": 4,
    "nbformat_minor": 0,
    "metadata": {
        "deepnote_persisted_session": {
            "createdAt": "2025-07-22T00:12:17.513Z"
        },
        "deepnote_notebook_id": "5254d21060aa410fac46d8ae137ec3d0"
    }
}